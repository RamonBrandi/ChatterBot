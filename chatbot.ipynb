{
 "metadata": {
  "language_info": {
   "codemirror_mode": {
    "name": "ipython",
    "version": 3
   },
   "file_extension": ".py",
   "mimetype": "text/x-python",
   "name": "python",
   "nbconvert_exporter": "python",
   "pygments_lexer": "ipython3",
   "version": "3.8.5-final"
  },
  "orig_nbformat": 2,
  "kernelspec": {
   "name": "Python 3.8.5 64-bit ('venv': venv)",
   "display_name": "Python 3.8.5 64-bit ('venv': venv)",
   "metadata": {
    "interpreter": {
     "hash": "dda74bdfd7ff6c2d67323be4b36c9be76abab0095797ba70fadedfb0ccbb9b03"
    }
   }
  }
 },
 "nbformat": 4,
 "nbformat_minor": 2,
 "cells": [
  {
   "source": [
    "# Criação de um chatbot com python e machine learning"
   ],
   "cell_type": "markdown",
   "metadata": {}
  },
  {
   "cell_type": "code",
   "execution_count": 3,
   "metadata": {},
   "outputs": [],
   "source": [
    "import glob\n",
    "from chatterbot import ChatBot\n",
    "from chatterbot.trainers import ChatterBotCorpusTrainer\n",
    "from chatterbot.trainers import ListTrainer\n",
    "from tkinter import *                       \n",
    "from random import choice"
   ]
  },
  {
   "cell_type": "code",
   "execution_count": 4,
   "metadata": {},
   "outputs": [],
   "source": [
    "arquivos_treino = [f for f in glob.glob(\"portuguese/*.yml\")]"
   ]
  },
  {
   "cell_type": "code",
   "execution_count": 5,
   "metadata": {},
   "outputs": [
    {
     "output_type": "stream",
     "name": "stderr",
     "text": [
      "[nltk_data] Downloading package stopwords to\n",
      "[nltk_data]     /home/ramones/nltk_data...\n",
      "[nltk_data]   Unzipping corpora/stopwords.zip.\n",
      "[nltk_data] Downloading package wordnet to /home/ramones/nltk_data...\n",
      "[nltk_data]   Unzipping corpora/wordnet.zip.\n",
      "[nltk_data] Downloading package averaged_perceptron_tagger to\n",
      "[nltk_data]     /home/ramones/nltk_data...\n",
      "[nltk_data]   Unzipping taggers/averaged_perceptron_tagger.zip.\n"
     ]
    }
   ],
   "source": [
    "bot_cruzeiro = ChatBot(\n",
    "    'Chatbot Cruzeiro',\n",
    "    storage_adapter='chatterbot.storage.SQLStorageAdapter',\n",
    "    database_uri='sqlite:///database.sqlite3'\n",
    "    )"
   ]
  },
  {
   "source": [
    "# Treino"
   ],
   "cell_type": "markdown",
   "metadata": {}
  },
  {
   "cell_type": "code",
   "execution_count": 6,
   "metadata": {},
   "outputs": [
    {
     "output_type": "stream",
     "name": "stdout",
     "text": [
      "Training conversations.yml: [####################] 100%\n",
      "Training suggestions.yml: [####################] 100%\n",
      "Training unilab.yml: [####################] 100%\n",
      "Training compliment.yml: [####################] 100%\n",
      "Training proverbs.yml: [####################] 100%\n",
      "Training trivia.yml: [####################] 100%\n",
      "Training greetings.yml: [####################] 100%\n",
      "Training money.yml: [####################] 100%\n",
      "Training games.yml: [####################] 100%\n",
      "Training linguistic_knowledge.yml: [####################] 100%\n"
     ]
    }
   ],
   "source": [
    "treino = ChatterBotCorpusTrainer(bot_cruzeiro)\n",
    "for arq in arquivos_treino:\n",
    "    treino.train(arq)\n",
    "#Interface Tkinter\n",
    "root = Tk()\n",
    "root.minsize(width=100, height=100)\n",
    "root.geometry('300x320+0+0')\n",
    "user = StringVar()                          \n",
    "bot  = StringVar()                          \n",
    "Label(root, text=\" Chatbot Cruzeiro \").pack()\n",
    "Label(root, text=\"     \").pack()\n",
    "Label(root, text=\"     \").pack()             \n",
    "root.title(\" ChatBot \")                  \n",
    "Label(root, text=\" Digite sua mensagem: \").pack()                \n",
    "Entry(root, textvariable=user,width=\"50\").pack()          \n",
    "Label(root, text=\" Bot Cruzeiro: \").pack()                \n",
    "Entry(root, textvariable=bot,width=\"50\").pack()        "
   ]
  },
  {
   "cell_type": "code",
   "execution_count": 7,
   "metadata": {},
   "outputs": [],
   "source": [
    "def main():\n",
    "    pergunta = user.get()\n",
    "    resposta = bot_cruzeiro.get_response(pergunta)\n",
    "    if float(resposta.confidence) > 0.1:\n",
    "        resp = []\n",
    "        resp.append(resposta)\n",
    "        bot.set(choice(resp))\n",
    "    else:\n",
    "        resposta = ['Não entendi']\n",
    "        bot.set(choice(resposta))\n",
    "\t"
   ]
  },
  {
   "source": [
    "# Interface"
   ],
   "cell_type": "markdown",
   "metadata": {}
  },
  {
   "cell_type": "code",
   "execution_count": 9,
   "metadata": {},
   "outputs": [],
   "source": [
    "root = Tk()\n",
    "root.minsize(width=100, height=100)\n",
    "root.geometry('300x320+0+0')\n",
    "user = StringVar()                          \n",
    "bot  = StringVar()                          \n",
    "Label(root, text=\" Chatbot Cruzeiro \").pack()\n",
    "Label(root, text=\"     \").pack()\n",
    "Label(root, text=\"     \").pack()             \n",
    "root.title(\" ChatBot \")                  \n",
    "Label(root, text=\" Digite sua mensagem: \").pack()                \n",
    "Entry(root, textvariable=user,width=\"50\").pack()          \n",
    "Label(root, text=\" Bot Cruzeiro: \").pack()                \n",
    "Entry(root, textvariable=bot,width=\"50\").pack()               \n",
    "                                                           \n",
    "def main():\n",
    "    pergunta = user.get()\n",
    "    resposta = bot_cruzeiro.get_response(pergunta)\n",
    "    if float(resposta.confidence) > 0.1:\n",
    "        resp = []\n",
    "        resp.append(resposta)\n",
    "        bot.set(choice(resp))\n",
    "    else:\n",
    "        resposta = ['Não entendi']\n",
    "        bot.set(choice(resposta))\n",
    "                                \n",
    "Label(root, text=\"     \").pack()\n",
    "Button(root, text=\"Enviar\", command=main).pack()        \n",
    "                                    \n",
    "mainloop()"
   ]
  }
 ]
}